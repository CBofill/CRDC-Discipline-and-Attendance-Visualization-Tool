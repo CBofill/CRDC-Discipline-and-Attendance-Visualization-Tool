{
 "cells": [
  {
   "cell_type": "markdown",
   "metadata": {},
   "source": [
    "## OCR Report\n",
    "This notebook constructs a proof-of-concept report of the district level data of Washington State schools, describing discipline and attendance information and highlighting disproportionate areas. See the README [here](https://github.com/CBofill/OCR-Discipline-and-Attendance-Visualization-Tool) for more information."
   ]
  },
  {
   "cell_type": "code",
   "execution_count": 1,
   "metadata": {
    "collapsed": false
   },
   "outputs": [],
   "source": [
    "%matplotlib inline\n",
    "\n",
    "import pandas as pd\n",
    "import seaborn as sns\n",
    "import re\n",
    "import matplotlib.pyplot as plt"
   ]
  },
  {
   "cell_type": "code",
   "execution_count": 2,
   "metadata": {
    "collapsed": true
   },
   "outputs": [],
   "source": [
    "input_file = './data/NeedDistrict_Part2.csv'\n",
    "output_file = './calculated_data.csv'"
   ]
  },
  {
   "cell_type": "code",
   "execution_count": 3,
   "metadata": {
    "collapsed": false
   },
   "outputs": [],
   "source": [
    "# Import the data\n",
    "data = pd.read_csv(input_file)"
   ]
  },
  {
   "cell_type": "code",
   "execution_count": 4,
   "metadata": {
    "collapsed": false
   },
   "outputs": [],
   "source": [
    "df = data.copy()"
   ]
  },
  {
   "cell_type": "code",
   "execution_count": 5,
   "metadata": {
    "collapsed": false
   },
   "outputs": [],
   "source": [
    "df.replace('Yes', True, inplace=True)\n",
    "df.replace('No', False, inplace=True)"
   ]
  },
  {
   "cell_type": "code",
   "execution_count": 6,
   "metadata": {
    "collapsed": false
   },
   "outputs": [],
   "source": [
    "## get list of grades\n",
    "grades = [x.strip() for x in re.findall('SCH_GRADE_...', ' '.join(df.columns))]\n",
    "\n",
    "## create variable for grades in a given school\n",
    "school_grade_span = []\n",
    "for row in df.iterrows():\n",
    "    span = [re.sub('SCH_GRADE_', '', g) for g in grades if row[1][g]]\n",
    "    school_grade_span.append((span[0], span[-1]))\n",
    "## add grade span to data set\n",
    "df['school_grade_span'] = pd.Series(school_grade_span)"
   ]
  },
  {
   "cell_type": "markdown",
   "metadata": {},
   "source": [
    "## Enrollment\n",
    "Enrollment is provided by race/ethnicity separated by gender. The total for each race/ethnicity is calculated, as well as the total students enrolled in each school."
   ]
  },
  {
   "cell_type": "markdown",
   "metadata": {},
   "source": [
    "Abbreviation-race pairs:\n",
    "\n",
    "    - HI: Hispanic\n",
    "    - AM: American Indian/ Alaksan Native\n",
    "    - AS: Asian\n",
    "    - HP: Native Hawaiian/Pacific Islander\n",
    "    - BL: Black\n",
    "    - WH: White\n",
    "    - TR: Two or more"
   ]
  },
  {
   "cell_type": "code",
   "execution_count": 74,
   "metadata": {
    "collapsed": false
   },
   "outputs": [
    {
     "name": "stderr",
     "output_type": "stream",
     "text": [
      "/Users/zoerichards/anaconda/lib/python2.7/site-packages/ipykernel/__main__.py:14: SettingWithCopyWarning: \n",
      "A value is trying to be set on a copy of a slice from a DataFrame.\n",
      "Try using .loc[row_indexer,col_indexer] = value instead\n",
      "\n",
      "See the caveats in the documentation: http://pandas.pydata.org/pandas-docs/stable/indexing.html#indexing-view-versus-copy\n",
      "/Users/zoerichards/anaconda/lib/python2.7/site-packages/ipykernel/__main__.py:20: SettingWithCopyWarning: \n",
      "A value is trying to be set on a copy of a slice from a DataFrame.\n",
      "Try using .loc[row_indexer,col_indexer] = value instead\n",
      "\n",
      "See the caveats in the documentation: http://pandas.pydata.org/pandas-docs/stable/indexing.html#indexing-view-versus-copy\n"
     ]
    }
   ],
   "source": [
    "## get list of columns with enrollment data\n",
    "enrollment_columns = [x for x in re.findall('SCH_ENR_.._[MF]', ' '.join(df.columns))]\n",
    "enrollment_columns.extend(('SCH_ID', 'school_grade_span'))\n",
    "\n",
    "#get just enrollment data\n",
    "enrollment_data = df[enrollment_columns]\n",
    "#clean up names of columns\n",
    "enrollment_data.columns = [re.sub('SCH_ENR_', '', x) for x in enrollment_data.columns]\n",
    "\n",
    "\n",
    "# add columns representing all male and female members of given race\n",
    "race_abbreviations = ['HI', 'AM', 'AS', 'HP', 'BL', 'WH', 'TR']\n",
    "for r in race_abbreviations:\n",
    "    enrollment_data[r] = enrollment_data[re.findall(r + '_.', ' '.join(enrollment_data.columns))].sum(axis=1)\n",
    "\n",
    "\n",
    "# add column for male and female\n",
    "gender = ['M', 'F']\n",
    "for g in gender:\n",
    "    enrollment_data[g] = enrollment_data[re.findall( '.._' + g, ' '.join(enrollment_data.columns))].sum(axis=1)\n",
    "    \n",
    "# reset index (not sure why this is getting dropped)\n",
    "enrollment_data.set_index('SCH_ID')\n",
    "\n",
    "enrollment_data_clean = enrollment_data.ix[:,-11:]\n",
    "enrollment_data_clean['total'] = enrollment_data_clean.iloc[:,-2:].sum(axis=1)\n",
    "enrollment_data_clean.set_index('SCH_ID', inplace=True)"
   ]
  },
  {
   "cell_type": "markdown",
   "metadata": {},
   "source": [
    "**Question**: Are there really only 23 students in school 530003002055?"
   ]
  },
  {
   "cell_type": "code",
   "execution_count": 83,
   "metadata": {
    "collapsed": false
   },
   "outputs": [],
   "source": [
    "# get enrollment data proportions\n",
    "enrollment_data_proportions = enrollment_data_clean.copy()\n",
    "for i in xrange(enrollment_data_proportions.shape[0]):\n",
    "    for j in xrange(enrollment_data_proportions.shape[1]-1):\n",
    "        enrollment_data_proportions.iloc[i, j+1] = enrollment_data_proportions.iloc[i, j+1]*1.0 / enrollment_data_proportions.iloc[i, -1]"
   ]
  },
  {
   "cell_type": "code",
   "execution_count": 85,
   "metadata": {
    "collapsed": false
   },
   "outputs": [
    {
     "data": {
      "text/html": [
       "<div>\n",
       "<table border=\"1\" class=\"dataframe\">\n",
       "  <thead>\n",
       "    <tr style=\"text-align: right;\">\n",
       "      <th></th>\n",
       "      <th>school_grade_span</th>\n",
       "      <th>HI</th>\n",
       "      <th>AM</th>\n",
       "      <th>AS</th>\n",
       "      <th>HP</th>\n",
       "      <th>BL</th>\n",
       "      <th>WH</th>\n",
       "      <th>TR</th>\n",
       "      <th>M</th>\n",
       "      <th>F</th>\n",
       "    </tr>\n",
       "    <tr>\n",
       "      <th>SCH_ID</th>\n",
       "      <th></th>\n",
       "      <th></th>\n",
       "      <th></th>\n",
       "      <th></th>\n",
       "      <th></th>\n",
       "      <th></th>\n",
       "      <th></th>\n",
       "      <th></th>\n",
       "      <th></th>\n",
       "      <th></th>\n",
       "    </tr>\n",
       "  </thead>\n",
       "  <tbody>\n",
       "    <tr>\n",
       "      <th>530003000005</th>\n",
       "      <td>(PS, G06)</td>\n",
       "      <td>0.18</td>\n",
       "      <td>0.01</td>\n",
       "      <td>0.02</td>\n",
       "      <td>0.00</td>\n",
       "      <td>0.01</td>\n",
       "      <td>0.69</td>\n",
       "      <td>0.09</td>\n",
       "      <td>0.51</td>\n",
       "      <td>0.49</td>\n",
       "    </tr>\n",
       "    <tr>\n",
       "      <th>530003000010</th>\n",
       "      <td>(PS, G06)</td>\n",
       "      <td>0.38</td>\n",
       "      <td>0.03</td>\n",
       "      <td>0.00</td>\n",
       "      <td>0.00</td>\n",
       "      <td>0.01</td>\n",
       "      <td>0.51</td>\n",
       "      <td>0.07</td>\n",
       "      <td>0.47</td>\n",
       "      <td>0.53</td>\n",
       "    </tr>\n",
       "    <tr>\n",
       "      <th>530003000008</th>\n",
       "      <td>(KG, G06)</td>\n",
       "      <td>0.30</td>\n",
       "      <td>0.01</td>\n",
       "      <td>0.01</td>\n",
       "      <td>0.00</td>\n",
       "      <td>0.01</td>\n",
       "      <td>0.58</td>\n",
       "      <td>0.08</td>\n",
       "      <td>0.49</td>\n",
       "      <td>0.51</td>\n",
       "    </tr>\n",
       "    <tr>\n",
       "      <th>530003000011</th>\n",
       "      <td>(PS, G06)</td>\n",
       "      <td>0.36</td>\n",
       "      <td>0.05</td>\n",
       "      <td>0.03</td>\n",
       "      <td>0.00</td>\n",
       "      <td>0.02</td>\n",
       "      <td>0.48</td>\n",
       "      <td>0.07</td>\n",
       "      <td>0.53</td>\n",
       "      <td>0.47</td>\n",
       "    </tr>\n",
       "    <tr>\n",
       "      <th>530003000001</th>\n",
       "      <td>(PS, G06)</td>\n",
       "      <td>0.43</td>\n",
       "      <td>0.03</td>\n",
       "      <td>0.02</td>\n",
       "      <td>0.00</td>\n",
       "      <td>0.01</td>\n",
       "      <td>0.47</td>\n",
       "      <td>0.04</td>\n",
       "      <td>0.51</td>\n",
       "      <td>0.49</td>\n",
       "    </tr>\n",
       "    <tr>\n",
       "      <th>530003000009</th>\n",
       "      <td>(G07, G08)</td>\n",
       "      <td>0.26</td>\n",
       "      <td>0.07</td>\n",
       "      <td>0.03</td>\n",
       "      <td>0.00</td>\n",
       "      <td>0.01</td>\n",
       "      <td>0.59</td>\n",
       "      <td>0.04</td>\n",
       "      <td>0.48</td>\n",
       "      <td>0.52</td>\n",
       "    </tr>\n",
       "    <tr>\n",
       "      <th>530003000007</th>\n",
       "      <td>(G09, G12)</td>\n",
       "      <td>0.28</td>\n",
       "      <td>0.04</td>\n",
       "      <td>0.03</td>\n",
       "      <td>0.01</td>\n",
       "      <td>0.01</td>\n",
       "      <td>0.60</td>\n",
       "      <td>0.04</td>\n",
       "      <td>0.52</td>\n",
       "      <td>0.48</td>\n",
       "    </tr>\n",
       "    <tr>\n",
       "      <th>530003000002</th>\n",
       "      <td>(G09, G12)</td>\n",
       "      <td>0.24</td>\n",
       "      <td>0.05</td>\n",
       "      <td>0.01</td>\n",
       "      <td>0.01</td>\n",
       "      <td>0.04</td>\n",
       "      <td>0.58</td>\n",
       "      <td>0.08</td>\n",
       "      <td>0.55</td>\n",
       "      <td>0.45</td>\n",
       "    </tr>\n",
       "    <tr>\n",
       "      <th>530003002055</th>\n",
       "      <td>(G05, G12)</td>\n",
       "      <td>0.39</td>\n",
       "      <td>0.04</td>\n",
       "      <td>0.00</td>\n",
       "      <td>0.00</td>\n",
       "      <td>0.04</td>\n",
       "      <td>0.52</td>\n",
       "      <td>0.00</td>\n",
       "      <td>0.61</td>\n",
       "      <td>0.39</td>\n",
       "    </tr>\n",
       "  </tbody>\n",
       "</table>\n",
       "</div>"
      ],
      "text/plain": [
       "             school_grade_span    HI    AM    AS    HP    BL    WH    TR  \\\n",
       "SCH_ID                                                                     \n",
       "530003000005         (PS, G06)  0.18  0.01  0.02  0.00  0.01  0.69  0.09   \n",
       "530003000010         (PS, G06)  0.38  0.03  0.00  0.00  0.01  0.51  0.07   \n",
       "530003000008         (KG, G06)  0.30  0.01  0.01  0.00  0.01  0.58  0.08   \n",
       "530003000011         (PS, G06)  0.36  0.05  0.03  0.00  0.02  0.48  0.07   \n",
       "530003000001         (PS, G06)  0.43  0.03  0.02  0.00  0.01  0.47  0.04   \n",
       "530003000009        (G07, G08)  0.26  0.07  0.03  0.00  0.01  0.59  0.04   \n",
       "530003000007        (G09, G12)  0.28  0.04  0.03  0.01  0.01  0.60  0.04   \n",
       "530003000002        (G09, G12)  0.24  0.05  0.01  0.01  0.04  0.58  0.08   \n",
       "530003002055        (G05, G12)  0.39  0.04  0.00  0.00  0.04  0.52  0.00   \n",
       "\n",
       "                 M     F  \n",
       "SCH_ID                    \n",
       "530003000005  0.51  0.49  \n",
       "530003000010  0.47  0.53  \n",
       "530003000008  0.49  0.51  \n",
       "530003000011  0.53  0.47  \n",
       "530003000001  0.51  0.49  \n",
       "530003000009  0.48  0.52  \n",
       "530003000007  0.52  0.48  \n",
       "530003000002  0.55  0.45  \n",
       "530003002055  0.61  0.39  "
      ]
     },
     "execution_count": 85,
     "metadata": {},
     "output_type": "execute_result"
    }
   ],
   "source": [
    "# create df for presenting enrollment data\n",
    "enrollment_presentation = enrollment_data_proportions.round(decimals=2)\n",
    "enrollment_presentation.drop('total', axis=1, inplace=True)\n",
    "enrollment_presentation"
   ]
  },
  {
   "cell_type": "code",
   "execution_count": null,
   "metadata": {
    "collapsed": false
   },
   "outputs": [],
   "source": [
    "## Scratch: practice visualization\n",
    "x = range(len(enrollment_data_proportions.columns[2:9]))\n",
    "y = enrollment_data_proportions.iloc[0, 2:-3]\n",
    "plt.bar(x, y, alpha=0.5, labels)\n",
    "#pyplot.hist(y, bins, alpha=0.5, label='y')"
   ]
  },
  {
   "cell_type": "markdown",
   "metadata": {},
   "source": [
    "## In-School Suspensions\n",
    "In-school suspension data are provided by race/ethnicity separated by gender and students with and without disabilites. The percentage rate of students who received one or more in-school suspension is summed by race/ethnicity, then the composition index is calculated."
   ]
  },
  {
   "cell_type": "code",
   "execution_count": 62,
   "metadata": {
    "collapsed": false
   },
   "outputs": [
    {
     "name": "stderr",
     "output_type": "stream",
     "text": [
      "/Users/zoerichards/anaconda/lib/python2.7/site-packages/ipykernel/__main__.py:12: SettingWithCopyWarning: \n",
      "A value is trying to be set on a copy of a slice from a DataFrame.\n",
      "Try using .loc[row_indexer,col_indexer] = value instead\n",
      "\n",
      "See the caveats in the documentation: http://pandas.pydata.org/pandas-docs/stable/indexing.html#indexing-view-versus-copy\n",
      "/Users/zoerichards/anaconda/lib/python2.7/site-packages/ipykernel/__main__.py:17: SettingWithCopyWarning: \n",
      "A value is trying to be set on a copy of a slice from a DataFrame.\n",
      "Try using .loc[row_indexer,col_indexer] = value instead\n",
      "\n",
      "See the caveats in the documentation: http://pandas.pydata.org/pandas-docs/stable/indexing.html#indexing-view-versus-copy\n"
     ]
    },
    {
     "data": {
      "text/html": [
       "<div>\n",
       "<table border=\"1\" class=\"dataframe\">\n",
       "  <thead>\n",
       "    <tr style=\"text-align: right;\">\n",
       "      <th></th>\n",
       "      <th>school_grade_span</th>\n",
       "      <th>HI</th>\n",
       "      <th>AM</th>\n",
       "      <th>AS</th>\n",
       "      <th>HP</th>\n",
       "      <th>BL</th>\n",
       "      <th>WH</th>\n",
       "      <th>TR</th>\n",
       "      <th>M</th>\n",
       "      <th>F</th>\n",
       "      <th>total</th>\n",
       "    </tr>\n",
       "    <tr>\n",
       "      <th>SCH_ID</th>\n",
       "      <th></th>\n",
       "      <th></th>\n",
       "      <th></th>\n",
       "      <th></th>\n",
       "      <th></th>\n",
       "      <th></th>\n",
       "      <th></th>\n",
       "      <th></th>\n",
       "      <th></th>\n",
       "      <th></th>\n",
       "      <th></th>\n",
       "    </tr>\n",
       "  </thead>\n",
       "  <tbody>\n",
       "    <tr>\n",
       "      <th>530003000005</th>\n",
       "      <td>(PS, G06)</td>\n",
       "      <td>0</td>\n",
       "      <td>0</td>\n",
       "      <td>0</td>\n",
       "      <td>0</td>\n",
       "      <td>0</td>\n",
       "      <td>1</td>\n",
       "      <td>0</td>\n",
       "      <td>1</td>\n",
       "      <td>0</td>\n",
       "      <td>1</td>\n",
       "    </tr>\n",
       "    <tr>\n",
       "      <th>530003000010</th>\n",
       "      <td>(PS, G06)</td>\n",
       "      <td>0</td>\n",
       "      <td>0</td>\n",
       "      <td>0</td>\n",
       "      <td>0</td>\n",
       "      <td>0</td>\n",
       "      <td>0</td>\n",
       "      <td>1</td>\n",
       "      <td>1</td>\n",
       "      <td>0</td>\n",
       "      <td>1</td>\n",
       "    </tr>\n",
       "    <tr>\n",
       "      <th>530003000008</th>\n",
       "      <td>(KG, G06)</td>\n",
       "      <td>0</td>\n",
       "      <td>0</td>\n",
       "      <td>0</td>\n",
       "      <td>0</td>\n",
       "      <td>0</td>\n",
       "      <td>0</td>\n",
       "      <td>0</td>\n",
       "      <td>0</td>\n",
       "      <td>0</td>\n",
       "      <td>0</td>\n",
       "    </tr>\n",
       "    <tr>\n",
       "      <th>530003000011</th>\n",
       "      <td>(PS, G06)</td>\n",
       "      <td>0</td>\n",
       "      <td>0</td>\n",
       "      <td>0</td>\n",
       "      <td>0</td>\n",
       "      <td>0</td>\n",
       "      <td>1</td>\n",
       "      <td>0</td>\n",
       "      <td>1</td>\n",
       "      <td>0</td>\n",
       "      <td>1</td>\n",
       "    </tr>\n",
       "    <tr>\n",
       "      <th>530003000001</th>\n",
       "      <td>(PS, G06)</td>\n",
       "      <td>0</td>\n",
       "      <td>0</td>\n",
       "      <td>0</td>\n",
       "      <td>0</td>\n",
       "      <td>0</td>\n",
       "      <td>3</td>\n",
       "      <td>0</td>\n",
       "      <td>3</td>\n",
       "      <td>0</td>\n",
       "      <td>3</td>\n",
       "    </tr>\n",
       "    <tr>\n",
       "      <th>530003000009</th>\n",
       "      <td>(G07, G08)</td>\n",
       "      <td>1</td>\n",
       "      <td>1</td>\n",
       "      <td>0</td>\n",
       "      <td>0</td>\n",
       "      <td>0</td>\n",
       "      <td>9</td>\n",
       "      <td>0</td>\n",
       "      <td>4</td>\n",
       "      <td>7</td>\n",
       "      <td>11</td>\n",
       "    </tr>\n",
       "    <tr>\n",
       "      <th>530003000007</th>\n",
       "      <td>(G09, G12)</td>\n",
       "      <td>8</td>\n",
       "      <td>3</td>\n",
       "      <td>0</td>\n",
       "      <td>2</td>\n",
       "      <td>3</td>\n",
       "      <td>24</td>\n",
       "      <td>6</td>\n",
       "      <td>33</td>\n",
       "      <td>13</td>\n",
       "      <td>46</td>\n",
       "    </tr>\n",
       "    <tr>\n",
       "      <th>530003000002</th>\n",
       "      <td>(G09, G12)</td>\n",
       "      <td>0</td>\n",
       "      <td>0</td>\n",
       "      <td>0</td>\n",
       "      <td>0</td>\n",
       "      <td>0</td>\n",
       "      <td>0</td>\n",
       "      <td>0</td>\n",
       "      <td>0</td>\n",
       "      <td>0</td>\n",
       "      <td>0</td>\n",
       "    </tr>\n",
       "    <tr>\n",
       "      <th>530003002055</th>\n",
       "      <td>(G05, G12)</td>\n",
       "      <td>0</td>\n",
       "      <td>0</td>\n",
       "      <td>0</td>\n",
       "      <td>0</td>\n",
       "      <td>0</td>\n",
       "      <td>0</td>\n",
       "      <td>0</td>\n",
       "      <td>0</td>\n",
       "      <td>0</td>\n",
       "      <td>0</td>\n",
       "    </tr>\n",
       "  </tbody>\n",
       "</table>\n",
       "</div>"
      ],
      "text/plain": [
       "             school_grade_span  HI  AM  AS  HP  BL  WH  TR   M   F  total\n",
       "SCH_ID                                                                   \n",
       "530003000005         (PS, G06)   0   0   0   0   0   1   0   1   0      1\n",
       "530003000010         (PS, G06)   0   0   0   0   0   0   1   1   0      1\n",
       "530003000008         (KG, G06)   0   0   0   0   0   0   0   0   0      0\n",
       "530003000011         (PS, G06)   0   0   0   0   0   1   0   1   0      1\n",
       "530003000001         (PS, G06)   0   0   0   0   0   3   0   3   0      3\n",
       "530003000009        (G07, G08)   1   1   0   0   0   9   0   4   7     11\n",
       "530003000007        (G09, G12)   8   3   0   2   3  24   6  33  13     46\n",
       "530003000002        (G09, G12)   0   0   0   0   0   0   0   0   0      0\n",
       "530003002055        (G05, G12)   0   0   0   0   0   0   0   0   0      0"
      ]
     },
     "execution_count": 62,
     "metadata": {},
     "output_type": "execute_result"
    }
   ],
   "source": [
    "## get list of columns with ISS data\n",
    "iss_columns = [x for x in re.findall('SCH_DISCWODIS_ISS_.._.', ' '.join(df.columns))]\n",
    "iss_columns.extend(('SCH_ID', 'school_grade_span'))\n",
    "\n",
    "#get just iss data\n",
    "iss_df = df[iss_columns]\n",
    "#clean up names of columns\n",
    "iss_df.columns = [re.sub('SCH_DISCWODIS_ISS_', '', x) for x in iss_df.columns]\n",
    "\n",
    "# add columns representing all male and female members of given race\n",
    "for r in race_abbreviations:\n",
    "    iss_df[r] = iss_df[re.findall(r + '_.', ' '.join(enrollment_data.columns))].sum(axis=1)\n",
    "\n",
    "# add column for male and female\n",
    "gender = ['M', 'F']\n",
    "for g in gender:\n",
    "    iss_df[g] = iss_df[re.findall( '.._' + g, ' '.join(iss_df.columns))].sum(axis=1)\n",
    "    \n",
    "# reset index (not sure why this is getting dropped)\n",
    "iss_df.set_index('SCH_ID')\n",
    "\n",
    "iss_df_clean = iss_df.iloc[:, -11:]\n",
    "iss_df_clean['total'] = iss_df_clean.iloc[:,-2:].sum(axis=1)\n",
    "iss_df_clean.set_index('SCH_ID',inplace=True)\n",
    "\n",
    "iss_df_clean"
   ]
  },
  {
   "cell_type": "code",
   "execution_count": 71,
   "metadata": {
    "collapsed": false
   },
   "outputs": [],
   "source": [
    "# get iss proportions\n",
    "iss_proportions = iss_df_clean.copy()\n",
    "for i in xrange(iss_proportions.shape[0]):\n",
    "    for j in xrange(iss_proportions.shape[1]-1):\n",
    "        if iss_proportions.iloc[i, -1] != 0:\n",
    "            iss_proportions.iloc[i, j+1] = iss_proportions.iloc[i, j+1]*1.0 / iss_proportions.iloc[i, -1]"
   ]
  },
  {
   "cell_type": "code",
   "execution_count": 90,
   "metadata": {
    "collapsed": false
   },
   "outputs": [
    {
     "data": {
      "text/html": [
       "<div>\n",
       "<table border=\"1\" class=\"dataframe\">\n",
       "  <thead>\n",
       "    <tr style=\"text-align: right;\">\n",
       "      <th></th>\n",
       "      <th>school_grade_span</th>\n",
       "      <th>HI</th>\n",
       "      <th>AM</th>\n",
       "      <th>AS</th>\n",
       "      <th>HP</th>\n",
       "      <th>BL</th>\n",
       "      <th>WH</th>\n",
       "      <th>TR</th>\n",
       "      <th>M</th>\n",
       "      <th>F</th>\n",
       "    </tr>\n",
       "    <tr>\n",
       "      <th>SCH_ID</th>\n",
       "      <th></th>\n",
       "      <th></th>\n",
       "      <th></th>\n",
       "      <th></th>\n",
       "      <th></th>\n",
       "      <th></th>\n",
       "      <th></th>\n",
       "      <th></th>\n",
       "      <th></th>\n",
       "      <th></th>\n",
       "    </tr>\n",
       "  </thead>\n",
       "  <tbody>\n",
       "    <tr>\n",
       "      <th>530003000005</th>\n",
       "      <td>(PS, G06)</td>\n",
       "      <td>0.00</td>\n",
       "      <td>0.00</td>\n",
       "      <td>0.0</td>\n",
       "      <td>0.00</td>\n",
       "      <td>0.00</td>\n",
       "      <td>1.00</td>\n",
       "      <td>0.00</td>\n",
       "      <td>1.00</td>\n",
       "      <td>0.00</td>\n",
       "    </tr>\n",
       "    <tr>\n",
       "      <th>530003000010</th>\n",
       "      <td>(PS, G06)</td>\n",
       "      <td>0.00</td>\n",
       "      <td>0.00</td>\n",
       "      <td>0.0</td>\n",
       "      <td>0.00</td>\n",
       "      <td>0.00</td>\n",
       "      <td>0.00</td>\n",
       "      <td>1.00</td>\n",
       "      <td>1.00</td>\n",
       "      <td>0.00</td>\n",
       "    </tr>\n",
       "    <tr>\n",
       "      <th>530003000008</th>\n",
       "      <td>(KG, G06)</td>\n",
       "      <td>0.00</td>\n",
       "      <td>0.00</td>\n",
       "      <td>0.0</td>\n",
       "      <td>0.00</td>\n",
       "      <td>0.00</td>\n",
       "      <td>0.00</td>\n",
       "      <td>0.00</td>\n",
       "      <td>0.00</td>\n",
       "      <td>0.00</td>\n",
       "    </tr>\n",
       "    <tr>\n",
       "      <th>530003000011</th>\n",
       "      <td>(PS, G06)</td>\n",
       "      <td>0.00</td>\n",
       "      <td>0.00</td>\n",
       "      <td>0.0</td>\n",
       "      <td>0.00</td>\n",
       "      <td>0.00</td>\n",
       "      <td>1.00</td>\n",
       "      <td>0.00</td>\n",
       "      <td>1.00</td>\n",
       "      <td>0.00</td>\n",
       "    </tr>\n",
       "    <tr>\n",
       "      <th>530003000001</th>\n",
       "      <td>(PS, G06)</td>\n",
       "      <td>0.00</td>\n",
       "      <td>0.00</td>\n",
       "      <td>0.0</td>\n",
       "      <td>0.00</td>\n",
       "      <td>0.00</td>\n",
       "      <td>1.00</td>\n",
       "      <td>0.00</td>\n",
       "      <td>1.00</td>\n",
       "      <td>0.00</td>\n",
       "    </tr>\n",
       "    <tr>\n",
       "      <th>530003000009</th>\n",
       "      <td>(G07, G08)</td>\n",
       "      <td>0.09</td>\n",
       "      <td>0.09</td>\n",
       "      <td>0.0</td>\n",
       "      <td>0.00</td>\n",
       "      <td>0.00</td>\n",
       "      <td>0.82</td>\n",
       "      <td>0.00</td>\n",
       "      <td>0.36</td>\n",
       "      <td>0.64</td>\n",
       "    </tr>\n",
       "    <tr>\n",
       "      <th>530003000007</th>\n",
       "      <td>(G09, G12)</td>\n",
       "      <td>0.17</td>\n",
       "      <td>0.07</td>\n",
       "      <td>0.0</td>\n",
       "      <td>0.04</td>\n",
       "      <td>0.07</td>\n",
       "      <td>0.52</td>\n",
       "      <td>0.13</td>\n",
       "      <td>0.72</td>\n",
       "      <td>0.28</td>\n",
       "    </tr>\n",
       "    <tr>\n",
       "      <th>530003000002</th>\n",
       "      <td>(G09, G12)</td>\n",
       "      <td>0.00</td>\n",
       "      <td>0.00</td>\n",
       "      <td>0.0</td>\n",
       "      <td>0.00</td>\n",
       "      <td>0.00</td>\n",
       "      <td>0.00</td>\n",
       "      <td>0.00</td>\n",
       "      <td>0.00</td>\n",
       "      <td>0.00</td>\n",
       "    </tr>\n",
       "    <tr>\n",
       "      <th>530003002055</th>\n",
       "      <td>(G05, G12)</td>\n",
       "      <td>0.00</td>\n",
       "      <td>0.00</td>\n",
       "      <td>0.0</td>\n",
       "      <td>0.00</td>\n",
       "      <td>0.00</td>\n",
       "      <td>0.00</td>\n",
       "      <td>0.00</td>\n",
       "      <td>0.00</td>\n",
       "      <td>0.00</td>\n",
       "    </tr>\n",
       "  </tbody>\n",
       "</table>\n",
       "</div>"
      ],
      "text/plain": [
       "             school_grade_span    HI    AM   AS    HP    BL    WH    TR     M  \\\n",
       "SCH_ID                                                                          \n",
       "530003000005         (PS, G06)  0.00  0.00  0.0  0.00  0.00  1.00  0.00  1.00   \n",
       "530003000010         (PS, G06)  0.00  0.00  0.0  0.00  0.00  0.00  1.00  1.00   \n",
       "530003000008         (KG, G06)  0.00  0.00  0.0  0.00  0.00  0.00  0.00  0.00   \n",
       "530003000011         (PS, G06)  0.00  0.00  0.0  0.00  0.00  1.00  0.00  1.00   \n",
       "530003000001         (PS, G06)  0.00  0.00  0.0  0.00  0.00  1.00  0.00  1.00   \n",
       "530003000009        (G07, G08)  0.09  0.09  0.0  0.00  0.00  0.82  0.00  0.36   \n",
       "530003000007        (G09, G12)  0.17  0.07  0.0  0.04  0.07  0.52  0.13  0.72   \n",
       "530003000002        (G09, G12)  0.00  0.00  0.0  0.00  0.00  0.00  0.00  0.00   \n",
       "530003002055        (G05, G12)  0.00  0.00  0.0  0.00  0.00  0.00  0.00  0.00   \n",
       "\n",
       "                 F  \n",
       "SCH_ID              \n",
       "530003000005  0.00  \n",
       "530003000010  0.00  \n",
       "530003000008  0.00  \n",
       "530003000011  0.00  \n",
       "530003000001  0.00  \n",
       "530003000009  0.64  \n",
       "530003000007  0.28  \n",
       "530003000002  0.00  \n",
       "530003002055  0.00  "
      ]
     },
     "execution_count": 90,
     "metadata": {},
     "output_type": "execute_result"
    }
   ],
   "source": [
    "# create df for displaying iss data\n",
    "iss_presentation = iss_proportions.round(decimals=2)\n",
    "iss_presentation.drop('total', axis=1, inplace=True)\n",
    "iss_presentation"
   ]
  },
  {
   "cell_type": "code",
   "execution_count": 163,
   "metadata": {
    "collapsed": false
   },
   "outputs": [
    {
     "data": {
      "image/png": "[encoded data removed]",
      "text/plain": [
       "<matplotlib.figure.Figure at 0x114c9f750>"
      ]
     },
     "metadata": {},
     "output_type": "display_data"
    }
   ],
   "source": [
    "school_enrollment = enrollment_data_proportions.iloc[6,1:-3].values\n",
    "school_iss = iss_proportions.iloc[6, 1:-3].values\n",
    "indices = range(len(race_abbreviations))\n",
    "width = 0.5\n",
    "\n",
    "plt.bar(indices, school_enrollment, color='c', alpha = 0.5, width=width, label='Enrollment')\n",
    "plt.bar([i+0.25*width for i in indices], school_iss, color='b', width = 0.5*width, alpha=0.5, label='ISS')\n",
    "\n",
    "#plt.xticks(['{}'.format(race_abbreviations[i]) for i in indices])\n",
    "#plt.xlabel(race_abbreviations)\n",
    "plt.xticks([i+0.5*width for i in indices], race_abbreviations)\n",
    "\n",
    "plt.title('School 1: Enrollment v. ISS')\n",
    "\n",
    "plt.legend()\n",
    "\n",
    "plt.show()"
   ]
  },
  {
   "cell_type": "markdown",
   "metadata": {},
   "source": [
    "what is SCH_DISCWODIS_ISS_LEP?"
   ]
  },
  {
   "cell_type": "markdown",
   "metadata": {},
   "source": [
    "#### Out-of-School Suspensions\n",
    "Out-of-school suspension data are provided by race/ethnicity separated by gender, students with and without disabilities, and students receiving only one or more than one suspension. The percentage rate of students who received one or more out-of-school suspension is summed by race/ethnicity, and the composition index is calculated."
   ]
  },
  {
   "cell_type": "code",
   "execution_count": null,
   "metadata": {
    "collapsed": true
   },
   "outputs": [],
   "source": [
    "# Calculate out-of-school suspension totals\n",
    "ooss_data = pd.DataFrame()\n",
    "\n",
    "for race in race_abbreviations:\n",
    "    ooss_data[race] = data[['SCH_PSDISC_SINGOOS_'+race+'_M','SCH_PSDISC_SINGOOS_'+race+'_F',\n",
    "                                        'SCH_PSDISC_MULTOOS_'+race+'_M','SCH_PSDISC_MULTOOS_'+race+'_F',\n",
    "                                        'SCH_DISCWODIS_SINGOOS_'+race+'_M','SCH_DISCWODIS_SINGOOS_'+race+'_F',\n",
    "                                        'SCH_DISCWODIS_MULTOOS_'+race+'_M','SCH_DISCWODIS_MULTOOS_'+race+'_F',\n",
    "                                        'SCH_DISCWDIS_SINGOOS_IDEA_'+race+'_M','SCH_DISCWDIS_SINGOOS_IDEA_'+race+'_F',\n",
    "                                        'SCH_DISCWDIS_MULTOOS_IDEA_'+race+'_M',\n",
    "                                        'SCH_DISCWDIS_MULTOOS_IDEA_'+race+'_F']].sum(axis=1)\n",
    "ooss_data['total'] = ooss_data.sum(axis=1)\n",
    "\n",
    "# Calculate in-school suspension percentages\n",
    "for race in race_abbreviations:\n",
    "    ooss_data[race+'_p'] = ooss_data[race]/ooss_data['total']\n",
    "\n",
    "# Calculate composition index\n",
    "for race in race_abbreviations:\n",
    "    ooss_data[race+'_comp'] = ooss_data[race+'_p']/enrollment_data[race+'_p']"
   ]
  },
  {
   "cell_type": "markdown",
   "metadata": {},
   "source": [
    "#### Expulsions\n",
    "Expulsions data are provided by race/ethnicity separated by gender, students with and without disabilities, and students who received an expulsion with or without educational services. The percentage rate of students who received an expulsion is summed by race/ethnicity, and the composition index is calculated."
   ]
  },
  {
   "cell_type": "code",
   "execution_count": null,
   "metadata": {
    "collapsed": false
   },
   "outputs": [],
   "source": [
    "# Calculate expulsion totals\n",
    "expulsion_data = pd.DataFrame()\n",
    "\n",
    "for race in race_abbreviations:\n",
    "    expulsion_data[race] = data[['SCH_PSDISC_EXP_'+race+'_M','SCH_PSDISC_EXP_'+race+'_F',\n",
    "                                            'SCH_DISCWODIS_EXPWE_'+race+'_M','SCH_DISCWODIS_EXPWE_'+race+'_F',\n",
    "                                            'SCH_DISCWODIS_EXPWOE_'+race+'_M','SCH_DISCWODIS_EXPWOE_'+race+'_F',\n",
    "                                            'SCH_DISCWDIS_EXPWE_IDEA_'+race+'_M','SCH_DISCWDIS_EXPWE_IDEA_'+race+'_F',\n",
    "                                            'SCH_DISCWDIS_EXPWOE_IDEA_'+race+'_M',\n",
    "                                             'SCH_DISCWDIS_EXPWOE_IDEA_'+race+'_F']].sum(axis=1)\n",
    "expulsion_data['total'] = expulsion_data.sum(axis=1)\n",
    "    \n",
    "# Calculate expulsion percentages\n",
    "for race in race_abbreviations:\n",
    "    expulsion_data[race+'_p'] = expulsion_data[race]/expulsion_data['total']\n",
    "    \n",
    "# Calculate composition index\n",
    "for race in race_abbreviations:\n",
    "    expulsion_data[race+'_comp'] = expulsion_data[race+'_p']/enrollment_data[race+'_p']"
   ]
  },
  {
   "cell_type": "markdown",
   "metadata": {},
   "source": [
    "### Export Data for Visualization\n",
    "The aggregated and calculated data is exported to make it easier to construct a visualization without this notebook."
   ]
  },
  {
   "cell_type": "code",
   "execution_count": null,
   "metadata": {
    "collapsed": false
   },
   "outputs": [],
   "source": [
    "# Combine calculated data\n",
    "enrollment = enrollment_data.add_prefix('enrollment_')\n",
    "iss = iss_data.add_prefix('iss_')\n",
    "ooss = ooss_data.add_prefix('ooss_')\n",
    "expulsion = expulsion_data.add_prefix('expulsion_')\n",
    "calculated_data = pd.concat([enrollment,iss,ooss,expulsion], axis=1)\n",
    "\n",
    "# Export to .csv\n",
    "calculated_data.to_csv(output_file, na_rep=0)"
   ]
  },
  {
   "cell_type": "code",
   "execution_count": null,
   "metadata": {
    "collapsed": false
   },
   "outputs": [],
   "source": [
    "print enrollment_data"
   ]
  },
  {
   "cell_type": "markdown",
   "metadata": {},
   "source": [
    "### Data Visualization\n",
    "Under development"
   ]
  },
  {
   "cell_type": "code",
   "execution_count": null,
   "metadata": {
    "collapsed": false,
    "scrolled": false
   },
   "outputs": [],
   "source": [
    "students = [race + '_students' for race in race_abbreviations]\n",
    "enrollment_data.iloc[0][students].plot.pie();"
   ]
  },
  {
   "cell_type": "code",
   "execution_count": null,
   "metadata": {
    "collapsed": false
   },
   "outputs": [],
   "source": [
    "compositions = [race + '_composition' for race in race_abbreviations]\n",
    "ooss_data.iloc[0][compositions].plot.pie();"
   ]
  }
 ],
 "metadata": {
  "anaconda-cloud": {},
  "kernelspec": {
   "display_name": "Python [conda root]",
   "language": "python",
   "name": "conda-root-py"
  },
  "language_info": {
   "codemirror_mode": {
    "name": "ipython",
    "version": 2
   },
   "file_extension": ".py",
   "mimetype": "text/x-python",
   "name": "python",
   "nbconvert_exporter": "python",
   "pygments_lexer": "ipython2",
   "version": "2.7.12"
  }
 },
 "nbformat": 4,
 "nbformat_minor": 1
}
